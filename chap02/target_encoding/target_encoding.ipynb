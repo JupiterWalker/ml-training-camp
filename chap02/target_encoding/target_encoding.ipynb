{
  "nbformat": 4,
  "nbformat_minor": 0,
  "metadata": {
    "kernelspec": {
      "display_name": "Python 3",
      "language": "python",
      "name": "python3"
    },
    "language_info": {
      "codemirror_mode": {
        "name": "ipython",
        "version": 2
      },
      "file_extension": ".py",
      "mimetype": "text/x-python",
      "name": "python",
      "nbconvert_exporter": "python",
      "pygments_lexer": "ipython2",
      "version": "2.7.6"
    },
    "colab": {
      "name": "target_encoding.ipynb",
      "provenance": []
    }
  },
  "cells": [
    {
      "cell_type": "code",
      "metadata": {
        "collapsed": true,
        "id": "jruaAmeyJMyH"
      },
      "source": [
        "import numpy as np\n",
        "\n",
        "\n",
        "def target_mean_v1(data, y_name, x_name):\n",
        "    result = np.zeros(data.shape[0])\n",
        "    for i in range(data.shape[0]):\n",
        "        groupby_result = data[data.index != i].groupby([x_name], as_index=False).agg(\n",
        "            ['mean', 'count'])\n",
        "        result[i] = groupby_result.loc[\n",
        "            groupby_result.index == data.loc[i, x_name], (y_name, 'mean')]\n",
        "    return result\n"
      ],
      "execution_count": 4,
      "outputs": []
    },
    {
      "cell_type": "code",
      "metadata": {
        "pycharm": {
          "name": "#%%\n"
        },
        "id": "zOdys2bbJMyM",
        "outputId": "5f13dec6-09e1-4641-ff56-2c77073ee859",
        "colab": {
          "base_uri": "https://localhost:8080/"
        }
      },
      "source": [
        "import pandas as pd\n",
        "y = np.random.randint(2, size=(5000, 1))\n",
        "x = np.random.randint(10, size=(5000, 1))\n",
        "data = pd.DataFrame(np.concatenate([y, x], axis=1), columns=['y', 'x'])\n",
        "result_1 = target_mean_v1(data, 'y', 'x')\n",
        "%timeit target_mean_v1(data, 'y', 'x')"
      ],
      "execution_count": 6,
      "outputs": [
        {
          "output_type": "stream",
          "text": [
            "1 loop, best of 3: 24.6 s per loop\n"
          ],
          "name": "stdout"
        }
      ]
    },
    {
      "cell_type": "code",
      "metadata": {
        "pycharm": {
          "name": "#%%\n"
        },
        "id": "k0H8OzsVJMyO"
      },
      "source": [
        "from collections import defaultdict\n",
        "\n",
        "def target_mean_v2(data, y_name, x_name):\n",
        "    count = data.shape[0]\n",
        "    result = np.zeros(count)\n",
        "    sum_dict = defaultdict(int)\n",
        "    count_dict = defaultdict(int)\n",
        "    for i in range(count):\n",
        "        sum_dict[data.loc[i, x_name]] += data.loc[i, y_name]\n",
        "        count_dict[data.loc[i, x_name]] += 1\n",
        "\n",
        "    for i in range(count):\n",
        "        result[i] = (sum_dict[data.loc[i, x_name]] - data.loc[i, y_name]) / (\n",
        "                count_dict[data.loc[i, x_name]] - 1)\n",
        "    return result"
      ],
      "execution_count": 7,
      "outputs": []
    },
    {
      "cell_type": "code",
      "metadata": {
        "pycharm": {
          "name": "#%%\n"
        },
        "id": "mSN9sodbJMyO",
        "outputId": "6fddd5e0-53da-439d-a6e7-fc1d05eb4c72",
        "colab": {
          "base_uri": "https://localhost:8080/"
        }
      },
      "source": [
        "result_2 = target_mean_v2(data, 'y', 'x')\n",
        "\n",
        "diff = np.linalg.norm(result_1 - result_2)\n",
        "print(diff)\n",
        "\n",
        "%timeit target_mean_v2(data, 'y', 'x')"
      ],
      "execution_count": 9,
      "outputs": [
        {
          "output_type": "stream",
          "text": [
            "0.0\n",
            "1 loop, best of 3: 229 ms per loop\n"
          ],
          "name": "stdout"
        }
      ]
    },
    {
      "cell_type": "code",
      "metadata": {
        "pycharm": {
          "name": "#%%\n"
        },
        "id": "27M2yeIBJMyO"
      },
      "source": [
        "def target_mean_v3(y_values, x_values):\n",
        "    sum_dict = defaultdict(int)\n",
        "    count_dict = defaultdict(int)\n",
        "\n",
        "    for x_v, y_v in zip(x_values, y_values):\n",
        "        sum_dict[x_v] += y_v\n",
        "        count_dict[x_v] += 1\n",
        "\n",
        "    result = [(sum_dict[x_v] - y_v)/(count_dict[x_v]-1) for x_v, y_v in zip(x_values, y_values)]\n",
        "    return result"
      ],
      "execution_count": 10,
      "outputs": []
    },
    {
      "cell_type": "code",
      "metadata": {
        "pycharm": {
          "name": "#%%\n"
        },
        "id": "mxI5XWL5JMyP",
        "outputId": "1930302c-68eb-4296-df09-4eea5b1e15ef",
        "colab": {
          "base_uri": "https://localhost:8080/"
        }
      },
      "source": [
        "result_3 = target_mean_v3(data['y'].values, data['x'].values)\n",
        "\n",
        "diff = np.linalg.norm(result_1 - result_3)\n",
        "print(diff)\n",
        "\n",
        "%timeit target_mean_v3(data['y'].values, data['x'].values)"
      ],
      "execution_count": 11,
      "outputs": [
        {
          "output_type": "stream",
          "text": [
            "0.0\n",
            "100 loops, best of 3: 6.68 ms per loop\n"
          ],
          "name": "stdout"
        }
      ]
    }
  ]
}