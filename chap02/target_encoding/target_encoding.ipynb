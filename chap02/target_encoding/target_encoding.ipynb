{
 "cells": [
  {
   "cell_type": "code",
   "execution_count": null,
   "metadata": {
    "collapsed": true
   },
   "outputs": [],
   "source": [
    "import numpy as np\n",
    "\n",
    "\n",
    "def target_mean_v1(data, y_name, x_name):\n",
    "    result = np.zeros(data.shape[0])\n",
    "    for i in range(data.shape[0]):\n",
    "        groupby_result = data[data.index != i].groupby([x_name], as_index=False).agg(\n",
    "            ['mean', 'count'])\n",
    "        result[i] = groupby_result.loc[\n",
    "            groupby_result.index == data.loc[i, x_name], (y_name, 'mean')]\n",
    "    return result\n"
   ]
  },
  {
   "cell_type": "code",
   "execution_count": null,
   "outputs": [],
   "source": [
    "from collections import defaultdict\n",
    "\n",
    "def target_mean_v2(data, y_name, x_name):\n",
    "    count = data.shape[0]\n",
    "    result = np.zeros(count)\n",
    "    sum_dict = defaultdict(int)\n",
    "    count_dict = defaultdict(int)\n",
    "    for i in range(count):\n",
    "        sum_dict[data.loc[i, x_name]] += data.loc[i, y_name]\n",
    "        count_dict[data.loc[i, x_name]] += 1\n",
    "\n",
    "    for i in range(count):\n",
    "        result[i] = (sum_dict[data.loc[i, x_name]] - data.loc[i, y_name]) / (\n",
    "                count_dict[data.loc[i, x_name]] - 1)\n",
    "    return result"
   ],
   "metadata": {
    "collapsed": false,
    "pycharm": {
     "name": "#%%\n"
    }
   }
  },
  {
   "cell_type": "code",
   "execution_count": null,
   "outputs": [],
   "source": [
    "from collections import defaultdict\n",
    "\n",
    "def target_mean_v3(data, y_name, x_name):\n",
    "    count = data.shape[0]\n",
    "    result = np.zeros(count)\n",
    "\n",
    "    x_values = data[x_name].values\n",
    "    y_values = data[y_name].values\n",
    "\n",
    "    sum_dict = defaultdict(int)\n",
    "    count_dict = defaultdict(int)\n",
    "\n",
    "    for x_v, y_v in zip(x_values, y_values):\n",
    "        sum_dict[x_v] += y_v\n",
    "        count_dict[x_v] += 1\n",
    "\n",
    "    result = [(sum_dict[x_v] - y_v)/(count_dict[x_v]-1) for x_v, y_v in zip(x_values, y_values)]\n",
    "    return result"
   ],
   "metadata": {
    "collapsed": false,
    "pycharm": {
     "name": "#%%\n"
    }
   }
  }
 ],
 "metadata": {
  "kernelspec": {
   "display_name": "Python 3",
   "language": "python",
   "name": "python3"
  },
  "language_info": {
   "codemirror_mode": {
    "name": "ipython",
    "version": 2
   },
   "file_extension": ".py",
   "mimetype": "text/x-python",
   "name": "python",
   "nbconvert_exporter": "python",
   "pygments_lexer": "ipython2",
   "version": "2.7.6"
  }
 },
 "nbformat": 4,
 "nbformat_minor": 0
}