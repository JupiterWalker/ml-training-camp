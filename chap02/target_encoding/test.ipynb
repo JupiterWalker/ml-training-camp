{
 "cells": [
  {
   "cell_type": "code",
   "execution_count": null,
   "metadata": {
    "collapsed": true
   },
   "outputs": [],
   "source": [
    "import numpy as np\n",
    "import pandas as pd\n",
    "from target_encoding_v1 import target_mean as target_mean_v1\n",
    "from target_encoding_v2 import target_mean as target_mean_v2\n",
    "\n",
    "\n",
    "y = np.random.randint(2, size=(5000, 1))\n",
    "x = np.random.randint(10, size=(5000, 1))\n",
    "data = pd.DataFrame(np.concatenate([y, x], axis=1), columns=['y', 'x'])\n",
    "result_1 = target_mean_v1(data, 'y', 'x')\n",
    "result_2 = target_mean_v2(data, 'y', 'x')\n",
    "\n",
    "diff = np.linalg.norm(result_1 - result_2)\n",
    "print(diff)\n",
    "\n",
    "\n"
   ]
  }
 ],
 "metadata": {
  "kernelspec": {
   "display_name": "Python 3",
   "language": "python",
   "name": "python3"
  },
  "language_info": {
   "codemirror_mode": {
    "name": "ipython",
    "version": 2
   },
   "file_extension": ".py",
   "mimetype": "text/x-python",
   "name": "python",
   "nbconvert_exporter": "python",
   "pygments_lexer": "ipython2",
   "version": "2.7.6"
  }
 },
 "nbformat": 4,
 "nbformat_minor": 0
}